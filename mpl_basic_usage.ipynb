{
 "cells": [
  {
   "cell_type": "markdown",
   "metadata": {
    "pycharm": {
     "name": "#%% md\n"
    }
   },
   "source": [
    "# __[Basic Usage](https://matplotlib.org/stable/tutorials/introductory/usage.html#basic-usage)__\n",
    "\n",
    "This tutorial covers some basic usage patterns and best practices to help you get started with Matplotlib.\n"
   ]
  },
  {
   "cell_type": "markdown",
   "metadata": {
    "pycharm": {
     "name": "#%% md\n"
    }
   },
   "source": [
    "#### Import Libraries & Dependencies"
   ]
  },
  {
   "cell_type": "code",
   "execution_count": null,
   "metadata": {
    "pycharm": {
     "name": "#%%\n"
    }
   },
   "outputs": [],
   "source": [
    "import matplotlib as mpl\n",
    "import matplotlib.pyplot as plt\n",
    "import numpy as np\n",
    "\n",
    "# Allows plots to show in the Jupyter Notebook\n",
    "%matplotlib inline"
   ]
  },
  {
   "cell_type": "code",
   "execution_count": null,
   "metadata": {
    "pycharm": {
     "name": "#%%\n"
    }
   },
   "outputs": [],
   "source": [
    "# Change dpi (so plots display larger inside DataSpell IDE)\n",
    "plt.rcParams['figure.dpi'] = 200"
   ]
  },
  {
   "cell_type": "markdown",
   "metadata": {
    "pycharm": {
     "name": "#%% md\n"
    }
   },
   "source": [
    "# __[A simple example](https://matplotlib.org/stable/tutorials/introductory/usage.html#a-simple-example)__\n",
    "\n",
    "Matplotlib graphs your data on __[`Figure`](https://matplotlib.org/stable/api/figure_api.html#matplotlib.figure.Figure)__'s (e.g., windows, Jupyter widgets, etc.), each of which can contain one or more __[`Axes`](https://matplotlib.org/stable/api/axes_api.html#matplotlib.axes.Axes)__, an area where points can be specified in terms of x-y coordinates (or theta-r in a polar plot, x-y-z in a 3D plot, etc.).  The simplest way of creating a Figure with an Axes is using __[`pyplot.subplots`](https://matplotlib.org/stable/api/_as_gen/matplotlib.pyplot.subplots.html#matplotlib.pyplot.subplots)__. We can then use __[`Axes.plot`](https://matplotlib.org/stable/api/_as_gen/matplotlib.axes.Axes.plot.html#matplotlib.axes.Axes.plot)__ to draw some data on the Axes:"
   ]
  },
  {
   "cell_type": "code",
   "execution_count": null,
   "metadata": {
    "pycharm": {
     "name": "#%%\n"
    }
   },
   "outputs": [],
   "source": [
    "# Create a figure containing a single axes.\n",
    "fig, ax = plt.subplots()\n",
    "# Plot some data on the axes.\n",
    "ax.plot([1, 2, 3, 4], [1, 4, 2, 3]);"
   ]
  },
  {
   "cell_type": "markdown",
   "metadata": {
    "pycharm": {
     "name": "#%% md\n"
    }
   },
   "source": [
    "# __[Parts of a Figure](https://matplotlib.org/stable/tutorials/introductory/usage.html#parts-of-a-figure)__\n",
    "\n",
    "Here are the components of a Matplotlib Figure.\n",
    "\n",
    "<img src=\"mpl_utility/parts_figure_01.png\">.\n",
    "\n"
   ]
  },
  {
   "cell_type": "markdown",
   "source": [
    "### Figure\n",
    "\n",
    "The **whole** figure.  The Figure keeps track of all the child __[`Axes`](https://matplotlib.org/stable/api/axes_api.html#matplotlib.axes.Axes)__, a group of 'special' Artists (titles, figure legends, color bars, etc.), and even nested sub-figures.\n",
    "\n",
    "The easiest way to create a new Figure is with pyplot:"
   ],
   "metadata": {
    "collapsed": false,
    "pycharm": {
     "name": "#%% md\n"
    }
   }
  },
  {
   "cell_type": "code",
   "execution_count": null,
   "outputs": [],
   "source": [
    "# Empty figure with no Axes\n",
    "fig = plt.figure()"
   ],
   "metadata": {
    "collapsed": false,
    "pycharm": {
     "name": "#%%\n"
    }
   }
  },
  {
   "cell_type": "code",
   "execution_count": null,
   "outputs": [],
   "source": [
    "# Figure with a single Axes\n",
    "fig, ax = plt.subplots()"
   ],
   "metadata": {
    "collapsed": false,
    "pycharm": {
     "name": "#%%\n"
    }
   }
  },
  {
   "cell_type": "code",
   "execution_count": null,
   "outputs": [],
   "source": [
    "# Figure with a 2x2 grid of Axes\n",
    "fig, axs = plt.subplots(2, 2)"
   ],
   "metadata": {
    "collapsed": false,
    "pycharm": {
     "name": "#%%\n"
    }
   }
  },
  {
   "cell_type": "markdown",
   "source": [
    "It is often convenient to create the Axes together with the Figure, but you can also manually add Axes later on. Note that many __[Matplotlib backends](https://matplotlib.org/stable/users/explain/backends.html)__ support zooming and panning on figure windows."
   ],
   "metadata": {
    "collapsed": false,
    "pycharm": {
     "name": "#%% md\n"
    }
   }
  },
  {
   "cell_type": "markdown",
   "source": [
    "### Axes\n",
    "\n",
    "An Axes is an Artist attached to a Figure that contains a region for plotting data, and usually includes two (or three in the case of 3D) __[`Axis`](https://matplotlib.org/stable/api/axis_api.html#matplotlib.axis.Axis)__ objects (be aware of the difference between **Axes** and **Axis**) that provide ticks and tick labels to provide scales for the data in the Axes. Each __[`Axes`](https://matplotlib.org/stable/api/axes_api.html#matplotlib.axes.Axes)__ also has a title (set via __[`set_title()`](https://matplotlib.org/stable/api/_as_gen/matplotlib.axes.Axes.set_title.html#matplotlib.axes.Axes.set_title)__, an x-label (set via __[`set_xlabel()`](https://matplotlib.org/stable/api/_as_gen/matplotlib.axes.Axes.set_xlabel.html#matplotlib.axes.Axes.set_xlabel)__), and a y-label set via __[`set_ylabel()`](https://matplotlib.org/stable/api/_as_gen/matplotlib.axes.Axes.set_ylabel.html#matplotlib.axes.Axes.set_ylabel)__).\n",
    "\n",
    "The __[`Axes`](https://matplotlib.org/stable/api/axes_api.html#matplotlib.axes.Axes)__ class and its member functions are the primary entry point to working with the OOP interface, and have most of the plotting methods defined on them (e.g. `ax.plot()`, shown above, uses the __[`plot`](https://matplotlib.org/stable/api/_as_gen/matplotlib.axes.Axes.plot.html#matplotlib.axes.Axes.plot)__ method)."
   ],
   "metadata": {
    "collapsed": false,
    "pycharm": {
     "name": "#%% md\n"
    }
   }
  },
  {
   "cell_type": "markdown",
   "source": [
    "### Axis\n",
    "\n",
    "These objects set the scale and limits and generate ticks (the marks on the Axis) and ticklabels (strings labeling the ticks).  The location of the ticks is determined by a __[`Locator`](https://matplotlib.org/stable/api/ticker_api.html#matplotlib.ticker.Locator)__ object and the ticklabel strings are formatted by a __[`Formatter`](https://matplotlib.org/stable/api/ticker_api.html#matplotlib.ticker.Formatter)__.  The combination of the correct __[`Locator`](https://matplotlib.org/stable/api/ticker_api.html#matplotlib.ticker.Locator)__ and __[`Formatter`](https://matplotlib.org/stable/api/ticker_api.html#matplotlib.ticker.Formatter)__ gives very fine control over the tick locations and labels."
   ],
   "metadata": {
    "collapsed": false,
    "pycharm": {
     "name": "#%% md\n"
    }
   }
  },
  {
   "cell_type": "markdown",
   "source": [
    "### Artist\n",
    "\n",
    "Basically, everything visible on the Figure is an Artist (even __[`Figure`](https://matplotlib.org/stable/api/figure_api.html#matplotlib.figure.Figure)__, __[`Axes`](https://matplotlib.org/stable/api/axes_api.html#matplotlib.axes.Axes)__, and __[`Axis`](https://matplotlib.org/stable/api/axis_api.html#matplotlib.axis.Axis)__ objects).  This includes __[`Text`](https://matplotlib.org/stable/api/text_api.html#matplotlib.text.Text)__ objects, __[`Line2D`](https://matplotlib.org/stable/api/_as_gen/matplotlib.lines.Line2D.html#matplotlib.lines.Line2D)__ objects, __[`collections`](https://matplotlib.org/stable/api/collections_api.html#module-matplotlib.collections)__ objects, __[`Patch`](https://matplotlib.org/stable/api/_as_gen/matplotlib.patches.Patch.html#matplotlib.patches.Patch)__ objects, etc. When the Figure is rendered, all the Artists are drawn to the **canvas**.  Most Artists are tied to an Axes; such an Artist cannot be shared by multiple Axes, or moved from one to another."
   ],
   "metadata": {
    "collapsed": false,
    "pycharm": {
     "name": "#%% md\n"
    }
   }
  },
  {
   "cell_type": "markdown",
   "source": [
    "# __[Types of inputs to plotting functions](https://matplotlib.org/stable/tutorials/introductory/usage.html#types-of-inputs-to-plotting-functions)__\n",
    "\n",
    "Plotting functions expect __[`numpy.array`](https://numpy.org/doc/stable/reference/generated/numpy.array.html#numpy.array)__ or __[`numpy.ma.masked_array`](https://numpy.org/doc/stable/reference/generated/numpy.ma.masked_array.html#numpy.ma.masked_array)__ as input, or objects that can be passed to __[`numpy.asarray`](https://numpy.org/doc/stable/reference/generated/numpy.asarray.html#numpy.asarray)__. Classes that are similar to arrays ('array-like') such as __[`pandas`](https://pandas.pydata.org/pandas-docs/stable/index.html#module-pandas)__ data objects and __[`numpy.matrix`](https://numpy.org/doc/stable/reference/generated/numpy.matrix.html#numpy.matrix)__ may not work as intended.  Common convention is to convert these to __[`numpy.array`](https://numpy.org/doc/stable/reference/generated/numpy.array.html#numpy.array)__ objects prior to plotting.\n",
    "\n",
    "For example, to convert a __[`numpy.matrix`](https://numpy.org/doc/stable/reference/generated/numpy.matrix.html#numpy.matrix)__:"
   ],
   "metadata": {
    "collapsed": false,
    "pycharm": {
     "name": "#%% md\n"
    }
   }
  },
  {
   "cell_type": "code",
   "execution_count": null,
   "outputs": [],
   "source": [
    "# Sample matrix\n",
    "matrix = np.matrix([[1, 2], [3, 4]])\n",
    "matrix"
   ],
   "metadata": {
    "collapsed": false,
    "pycharm": {
     "name": "#%%\n"
    }
   }
  },
  {
   "cell_type": "code",
   "execution_count": null,
   "outputs": [],
   "source": [
    "# Convert matrix to np.array objects using np.asarray()\n",
    "matrix_asarray = np.asarray(matrix)\n",
    "matrix_asarray"
   ],
   "metadata": {
    "collapsed": false,
    "pycharm": {
     "name": "#%%\n"
    }
   }
  },
  {
   "cell_type": "markdown",
   "source": [
    "Most methods will also parse an addressable object like a *dict*, a __[`numpy.recarray`](https://numpy.org/doc/stable/reference/generated/numpy.recarray.html#numpy.recarray)__, or a __[`pandas.DataFrame`](https://pandas.pydata.org/pandas-docs/stable/reference/api/pandas.DataFrame.html#pandas.DataFrame)__.  Matplotlib allows you to provide the `data` keyword argument and generate plots passing the strings corresponding to the *x* and *y* variables."
   ],
   "metadata": {
    "collapsed": false,
    "pycharm": {
     "name": "#%% md\n"
    }
   }
  },
  {
   "cell_type": "code",
   "execution_count": null,
   "metadata": {
    "pycharm": {
     "name": "#%%\n"
    }
   },
   "outputs": [],
   "source": [
    "# seed the random number generator.\n",
    "np.random.seed(19680801)\n",
    "\n",
    "# Data\n",
    "data = {'a': np.arange(50),\n",
    "        'c': np.random.randint(0, 50, 50),\n",
    "        'd': np.random.randn(50)}\n",
    "data['b'] = data['a'] + 10 * np.random.randn(50)\n",
    "data['d'] = np.abs(data['d']) * 100\n",
    "\n",
    "# Create the figure\n",
    "fig, ax = plt.subplots(figsize=(5, 2.7), layout='constrained')\n",
    "\n",
    "# Plot some data\n",
    "ax.scatter('a', 'b', c='c', s='d', data=data)\n",
    "\n",
    "# Add x, y-labels\n",
    "ax.set_xlabel('entry a')\n",
    "ax.set_ylabel('entry b');"
   ]
  },
  {
   "cell_type": "markdown",
   "metadata": {
    "pycharm": {
     "name": "#%% md\n"
    }
   },
   "source": [
    "\n",
    "# __[Coding styles](https://matplotlib.org/stable/tutorials/introductory/usage.html#coding-styles)__\n",
    "\n",
    "### The object-oriented and the pyplot interfaces\n",
    "\n",
    "As noted above, there are essentially two ways to use Matplotlib:\n",
    "\n",
    "- Explicitly create Figures and Axes, and call methods on them (the \"object-oriented (OO) style\").\n",
    "- Rely on pyplot to automatically create and manage the Figures and Axes, and use pyplot functions for plotting.\n",
    "\n",
    "So one can use the OO-style:\n",
    "\n"
   ]
  },
  {
   "cell_type": "code",
   "execution_count": null,
   "metadata": {
    "pycharm": {
     "name": "#%%\n"
    }
   },
   "outputs": [],
   "source": [
    "# Sample data.\n",
    "x = np.linspace(0, 2, 100)\n",
    "\n",
    "# Note that even in the OO-style, we use `.pyplot.figure` to create the Figure.\n",
    "fig_5, ax_5 = plt.subplots(figsize=(5, 2.7), layout='constrained')\n",
    "\n",
    "# Plot some data on the axes.\n",
    "ax_5.plot(x, x, label='linear')\n",
    "# Plot more data on the axes...\n",
    "ax_5.plot(x, x**2, label='quadratic')\n",
    "# ... and some more.\n",
    "ax_5.plot(x, x**3, label='cubic')\n",
    "\n",
    "# Add an x-label to the axes.\n",
    "ax_5.set_xlabel('x label')\n",
    "# Add a y-label to the axes.\n",
    "ax_5.set_ylabel('y label')\n",
    "# Add a title to the axes.\n",
    "ax_5.set_title(\"Simple Plot\")\n",
    "\n",
    "# Add a legend.\n",
    "ax_5.legend();"
   ]
  },
  {
   "cell_type": "markdown",
   "metadata": {
    "pycharm": {
     "name": "#%% md\n"
    }
   },
   "source": [
    "or the pyplot-style:\n",
    "\n"
   ]
  },
  {
   "cell_type": "code",
   "execution_count": null,
   "metadata": {
    "pycharm": {
     "name": "#%%\n"
    }
   },
   "outputs": [],
   "source": [
    "# Sample data.\n",
    "sample_data = np.linspace(0, 2, 100)\n",
    "\n",
    "plt.figure(figsize=(5, 2.7), layout='constrained')\n",
    "\n",
    "# Plot some data on the (implicit) axes, etc...\n",
    "plt.plot(x, x, label='linear')\n",
    "plt.plot(x, x**2, label='quadratic')\n",
    "plt.plot(x, x**3, label='cubic')\n",
    "\n",
    "# Add an x, y-labels, title, and legend to the axes\n",
    "plt.xlabel('x label')\n",
    "plt.ylabel('y label')\n",
    "plt.title(\"Simple Plot\")\n",
    "plt.legend();"
   ]
  },
  {
   "cell_type": "markdown",
   "metadata": {
    "pycharm": {
     "name": "#%% md\n"
    }
   },
   "source": [
    "(In addition, there is a third approach, for the case when embedding Matplotlib in a GUI application, which completely drops pyplot, even for figure creation. See the corresponding section in the gallery for more info: __[Embedding Matplotlib in graphical user interfaces.](https://matplotlib.org/stable/gallery/user_interfaces/index.html#user-interfaces)__)\n",
    "\n",
    "Matplotlib documentation and examples use both the OO and the pyplot styles. In general, we suggest using the OO style, particularly for complicated plots, and functions and scripts that are intended to be reused as part of a larger project. However, the pyplot style can be very convenient for quick interactive work."
   ]
  },
  {
   "cell_type": "markdown",
   "source": [
    "### Making a helper functions\n",
    "\n",
    "If you need to make the same plots over and over again with different data sets, or want to easily wrap Matplotlib methods, use the recommended signature function below."
   ],
   "metadata": {
    "collapsed": false,
    "pycharm": {
     "name": "#%% md\n"
    }
   }
  },
  {
   "cell_type": "code",
   "execution_count": null,
   "metadata": {
    "pycharm": {
     "name": "#%%\n"
    }
   },
   "outputs": [],
   "source": [
    "# noinspection PyShadowingNames\n",
    "def my_plotter(ax, data1, data2, param_dict):\n",
    "    \"\"\"\n",
    "    A helper function to make a graph.\n",
    "    \"\"\"\n",
    "    out = ax.plot(data1, data2, **param_dict)\n",
    "    return out"
   ]
  },
  {
   "cell_type": "markdown",
   "metadata": {
    "pycharm": {
     "name": "#%% md\n"
    }
   },
   "source": [
    "which you would then use twice to populate two subplots:\n",
    "\n"
   ]
  },
  {
   "cell_type": "code",
   "execution_count": null,
   "metadata": {
    "pycharm": {
     "name": "#%%\n"
    }
   },
   "outputs": [],
   "source": [
    "# 4 random data sets\n",
    "data1, data2, data3, data4 = np.random.randn(4, 100)\n",
    "\n",
    "# Create the figure\n",
    "fig_6, (ax1, ax2) = plt.subplots(1, 2, figsize=(10, 5.4))\n",
    "\n",
    "# Function calls\n",
    "my_plotter(ax1, data1, data2, {'marker': 'x'})\n",
    "my_plotter(ax2, data3, data4, {'marker': 'o'});"
   ]
  },
  {
   "cell_type": "markdown",
   "metadata": {
    "pycharm": {
     "name": "#%% md\n"
    }
   },
   "source": [
    "# __[Styling Artists](https://matplotlib.org/stable/tutorials/introductory/usage.html#styling-artists)__\n",
    "\n",
    "Most plotting methods have styling options for the Artists, accessible either when a plotting method is called, or from a \"setter\" on the Artist.  In the plot below we manually set the *color*, *linewidth*, and *linestyle* of the Artists created by __[`plot`](https://matplotlib.org/stable/api/_as_gen/matplotlib.axes.Axes.plot.html#matplotlib.axes.Axes.plot)__ method, and we set the linestyle of the second line after the fact with __[`set_linestyle`](https://matplotlib.org/stable/api/_as_gen/matplotlib.lines.Line2D.html#matplotlib.lines.Line2D.set_linestyle)__."
   ]
  },
  {
   "cell_type": "code",
   "execution_count": null,
   "metadata": {
    "pycharm": {
     "name": "#%%\n"
    }
   },
   "outputs": [],
   "source": [
    "# Random data sets\n",
    "data1, data2 = np.random.randn(2, 100)\n",
    "x = np.arange(len(data1))\n",
    "\n",
    "# Create the figure\n",
    "fig, ax = plt.subplots(figsize=(5, 2.7))\n",
    "\n",
    "# Plot. Manually set the color, linewidth, and linestyle\n",
    "ax.plot(x, np.cumsum(data1), color='blue', linewidth=3, linestyle='-')\n",
    "l, = ax.plot(x, np.cumsum(data2), color='orange', linewidth=2)\n",
    "\n",
    "# Set the linestyle of the second line\n",
    "l.set_linestyle(':')"
   ]
  },
  {
   "cell_type": "markdown",
   "metadata": {
    "pycharm": {
     "name": "#%% md\n"
    }
   },
   "source": [
    "### Colors\n",
    "\n",
    "Matplotlib has a very flexible array of colors that are accepted for most Artists; see the __[colors tutorial](https://matplotlib.org/stable/tutorials/colors/colors.html)__ for a list of specifications. Some Artists will take multiple colors.  i.e. for a __[`Axes.scatter`](https://matplotlib.org/stable/api/_as_gen/matplotlib.axes.Axes.scatter.html#matplotlib.axes.Axes.scatter)__ plot, the edge of the markers can be different colors from the interior:\n",
    "\n"
   ]
  },
  {
   "cell_type": "code",
   "execution_count": null,
   "metadata": {
    "pycharm": {
     "name": "#%%\n"
    }
   },
   "outputs": [],
   "source": [
    "fig, ax = plt.subplots(figsize=(5, 2.7))\n",
    "ax.scatter(data1, data2, s=50, facecolor='C0', edgecolor='k');"
   ]
  },
  {
   "cell_type": "markdown",
   "metadata": {
    "pycharm": {
     "name": "#%% md\n"
    }
   },
   "source": [
    "### Linewidths, linestyles, and markersizes\n",
    "\n",
    "Line widths are typically in typographic points (1 pt = 1/72 inch) and available for Artists that have stroked lines.  Similarly, stroked lines can have a linestyle.  See the __[linestyles example.](https://matplotlib.org/stable/gallery/lines_bars_and_markers/linestyles.html)__\n",
    "\n",
    "Marker size depends on the method being used.  __[`plot`](https://matplotlib.org/stable/api/_as_gen/matplotlib.axes.Axes.plot.html#matplotlib.axes.Axes.plot)__ specifies markersize in points, and is generally the \"diameter\" or width of the marker.  __[`Axes.scatter`](https://matplotlib.org/stable/api/_as_gen/matplotlib.axes.Axes.scatter.html#matplotlib.axes.Axes.scatter)__ specifies markersize as approximately proportional to the visual area of the marker.  There is an array of markerstyles available as string codes (see __[`markers`](https://matplotlib.org/stable/api/markers_api.html#module-matplotlib.markers)__), or users can define their own __[`MarkerStyle`](https://matplotlib.org/stable/api/_as_gen/matplotlib.markers.MarkerStyle.html#matplotlib.markers.MarkerStyle)__ (see __[marker reference](https://matplotlib.org/stable/gallery/lines_bars_and_markers/marker_reference.html)__):\n",
    "\n"
   ]
  },
  {
   "cell_type": "code",
   "execution_count": null,
   "metadata": {
    "pycharm": {
     "name": "#%%\n"
    }
   },
   "outputs": [],
   "source": [
    "# Random data sets\n",
    "data1, data2, data3, data4 = np.random.randn(4, 50)\n",
    "\n",
    "fig, ax = plt.subplots(figsize=(5, 2.7))\n",
    "ax.plot(data1, 'o', label='data1')\n",
    "ax.plot(data2, 'd', label='data2')\n",
    "ax.plot(data3, 'v', label='data3')\n",
    "ax.plot(data4, 's', label='data4')\n",
    "ax.legend();"
   ]
  },
  {
   "cell_type": "markdown",
   "metadata": {
    "pycharm": {
     "name": "#%% md\n"
    }
   },
   "source": [
    "# Labelling plots\n",
    "\n",
    "### Axes labels and text\n",
    "\n",
    "__[`Axes.set_xlabel`](https://matplotlib.org/stable/api/_as_gen/matplotlib.axes.Axes.set_xlabel.html#matplotlib.axes.Axes.set_xlabel)__, __[`Axes.set_ylabel`](https://matplotlib.org/stable/api/_as_gen/matplotlib.axes.Axes.set_ylabel.html#matplotlib.axes.Axes.set_ylabel)__, and __[`Axes.set_title`](https://matplotlib.org/stable/api/_as_gen/matplotlib.axes.Axes.set_title.html#matplotlib.axes.Axes.set_title)__ are used to add text in the indicated locations (see __[Text in Matplotlib Plots](https://matplotlib.org/stable/tutorials/text/text_intro.html)__ for more discussion).  Text can also be directly added to plots using __[`Axes.text`](https://matplotlib.org/stable/api/_as_gen/matplotlib.axes.Axes.text.html#matplotlib.axes.Axes.text)__:\n",
    "\n"
   ]
  },
  {
   "cell_type": "code",
   "execution_count": null,
   "metadata": {
    "pycharm": {
     "name": "#%%\n"
    }
   },
   "outputs": [],
   "source": [
    "mu, sigma = 115, 15\n",
    "x = mu + sigma * np.random.randn(10000)\n",
    "fig, ax = plt.subplots(figsize=(5, 2.7), layout='constrained')\n",
    "# the histogram of the data\n",
    "n, bins, patches = ax.hist(x, 50, density=1, facecolor='C0', alpha=0.75)\n",
    "\n",
    "ax.set_xlabel('Length [cm]', fontsize=14, color='red')\n",
    "ax.set_ylabel('Probability')\n",
    "ax.set_title('Aardvark lengths\\n (not really)')\n",
    "ax.text(75, .025, r'$\\mu=115,\\ \\sigma=15$')\n",
    "ax.axis([55, 175, 0, 0.03])\n",
    "ax.grid(True)\n",
    "\n",
    "# t = ax.set_xlabel('my data', fontsize=14, color='red')"
   ]
  },
  {
   "cell_type": "markdown",
   "metadata": {
    "pycharm": {
     "name": "#%% md\n"
    }
   },
   "source": [
    "All of the __[`Axes.text`](https://matplotlib.org/stable/api/_as_gen/matplotlib.axes.Axes.text.html#matplotlib.axes.Axes.text)__ functions return a __[`matplotlib.text.Text`](https://matplotlib.org/stable/api/text_api.html#matplotlib.text.Text)__ instance.  Just as with lines above, you can customize the properties by passing keyword arguments into the text functions.\n",
    "\n",
    "These properties are covered in more detail in __[Text Properties and Layout](https://matplotlib.org/stable/tutorials/text/text_props.html)__.\n"
   ]
  },
  {
   "cell_type": "markdown",
   "source": [
    "### Using mathematical expressions in text\n",
    "\n",
    "Matplotlib accepts TeX equation expressions in any text expression. For example to write the expression $`\\sigma_i=15`$ in the title, you can write a TeX expression surrounded by dollar signs:\n",
    "\n",
    "ax.set_title(r'$\\sigma_i=15$')\n",
    "\n",
    "where the ``r`` preceding the title string signifies that the string is a *raw* string and not to treat backslashes as python escapes. Matplotlib has a built-in TeX expression parser and layout engine, and ships its own math fonts – for details see __[Writing mathematical expressions](https://matplotlib.org/stable/tutorials/text/mathtext.html)__.  You can also use LaTeX directly to format your text and incorporate the output directly into your display figures or saved postscript – see __[Text rendering with LaTex](https://matplotlib.org/stable/tutorials/text/usetex.html)__."
   ],
   "metadata": {
    "collapsed": false,
    "pycharm": {
     "name": "#%% md\n"
    }
   }
  },
  {
   "cell_type": "markdown",
   "source": [
    "### Annotations\n",
    "\n",
    "We can also annotate points on a plot, often by connecting an arrow pointing to `xy`, to a piece of text at `xytext`:"
   ],
   "metadata": {
    "collapsed": false,
    "pycharm": {
     "name": "#%% md\n"
    }
   }
  },
  {
   "cell_type": "code",
   "execution_count": null,
   "metadata": {
    "pycharm": {
     "name": "#%%\n"
    }
   },
   "outputs": [],
   "source": [
    "fig, ax = plt.subplots(figsize=(5, 2.7))\n",
    "\n",
    "t = np.arange(0.0, 5.0, 0.01)\n",
    "s = np.cos(2 * np.pi * t)\n",
    "line, = ax.plot(t, s, lw=2)\n",
    "\n",
    "ax.annotate('local max', xy=(2, 1), xytext=(3, 1.5),\n",
    "            arrowprops=dict(facecolor='green', shrink=0.05))\n",
    "\n",
    "ax.set_ylim(-2, 2);"
   ]
  },
  {
   "cell_type": "markdown",
   "metadata": {
    "pycharm": {
     "name": "#%% md\n"
    }
   },
   "source": [
    "In this basic example, both *xy* and *xytext* are in data coordinates. There are a variety of other coordinate systems one can choose -- see __[Basic Annotations](https://matplotlib.org/stable/tutorials/text/annotations.html#annotations-tutorial)__ and __[Advanced Annotations](https://matplotlib.org/stable/tutorials/text/annotations.html#plotting-guide-annotation)__ for details.  More examples also can be found in __[Annotating Plots](https://matplotlib.org/stable/gallery/text_labels_and_annotations/annotation_demo.html)__."
   ]
  },
  {
   "cell_type": "markdown",
   "source": [
    "### Legends\n",
    "\n",
    "Often we want to identify lines or markers with a __[`.Axes.legend`](https://matplotlib.org/stable/api/_as_gen/matplotlib.axes.Axes.legend.html#matplotlib.axes.Axes.legend)__:"
   ],
   "metadata": {
    "collapsed": false,
    "pycharm": {
     "name": "#%% md\n"
    }
   }
  },
  {
   "cell_type": "code",
   "execution_count": null,
   "metadata": {
    "pycharm": {
     "name": "#%%\n"
    }
   },
   "outputs": [],
   "source": [
    "data1, data2, data3 = np.random.randn(3, 50)\n",
    "\n",
    "\n",
    "fig, ax = plt.subplots(figsize=(5, 2.7))\n",
    "ax.plot(np.arange(len(data1)), data1, label='data1')\n",
    "ax.plot(np.arange(len(data2)), data2, label='data2')\n",
    "ax.plot(np.arange(len(data3)), data3, 'd', label='data3')\n",
    "ax.legend();"
   ]
  },
  {
   "cell_type": "markdown",
   "metadata": {
    "pycharm": {
     "name": "#%% md\n"
    }
   },
   "source": [
    "Legends in Matplotlib are quite flexible in layout, placement, and what Artists they can represent. They are discussed in detail in __[Legend Guide](https://matplotlib.org/stable/tutorials/intermediate/legend_guide.html)__."
   ]
  },
  {
   "cell_type": "markdown",
   "source": [
    "# __[Axis scales and ticks](https://matplotlib.org/stable/tutorials/introductory/usage.html#axis-scales-and-ticks)__\n",
    "\n",
    "Each Axes has two (or three) __[`Axis`](https://matplotlib.org/stable/api/axis_api.html#matplotlib.axis.Axis)__ objects representing the x- and y-axis. These control the *scale* of the Axis, the tick *locators* and the tick *formatters*. Additional Axes can be attached to display further Axis objects.\n",
    "<br>\n",
    "\n",
    "### Scales\n",
    "\n",
    "In addition to the linear scale, Matplotlib supplies non-linear scales, such as a log-scale.  Since log-scales are used so much there are also direct methods like __[`loglog`](https://matplotlib.org/stable/api/_as_gen/matplotlib.axes.Axes.loglog.html#matplotlib.axes.Axes.loglog)__, __[`semilogx`](https://matplotlib.org/stable/api/_as_gen/matplotlib.axes.Axes.semilogx.html#matplotlib.axes.Axes.semilogx)__, and __[`semilogy`](https://matplotlib.org/stable/api/_as_gen/matplotlib.axes.Axes.semilogy.html#matplotlib.axes.Axes.semilogy)__.  There are a number of scales (see __[Scales](https://matplotlib.org/stable/gallery/scales/scales.html)__ for other examples).  Here we set the scale manually:\n"
   ],
   "metadata": {
    "collapsed": false,
    "pycharm": {
     "name": "#%% md\n"
    }
   }
  },
  {
   "cell_type": "code",
   "execution_count": null,
   "metadata": {
    "pycharm": {
     "name": "#%%\n"
    }
   },
   "outputs": [],
   "source": [
    "# Create figure\n",
    "fig, axs = plt.subplots(1, 2, figsize=(5, 2.7), layout='constrained')\n",
    "\n",
    "# Data\n",
    "xdata = np.arange(len(data1))  # make an ordinal for this\n",
    "data = 10 ** data1\n",
    "\n",
    "# Plot data\n",
    "axs[0].plot(xdata, data)\n",
    "axs[1].set_yscale('log')\n",
    "axs[1].plot(xdata, data);"
   ]
  },
  {
   "cell_type": "markdown",
   "metadata": {
    "pycharm": {
     "name": "#%% md\n"
    }
   },
   "source": [
    "The scale sets the mapping from data values to spacing along the Axis. This happens in both directions, and gets combined into a *transform*, which is the way that Matplotlib maps from data coordinates to Axes, Figure, or screen coordinates.  See __[Transform Tutorial](https://matplotlib.org/stable/tutorials/advanced/transforms_tutorial.html)__.\n",
    "\n"
   ]
  },
  {
   "cell_type": "markdown",
   "source": [
    "### Tick locators and formatters\n",
    "\n",
    "Each Axis has a tick *locator* and *formatter* that choose where along the\n",
    "Axis objects to put tick marks.  A simple interface to this is\n",
    "`~.Axes.set_xticks`:"
   ],
   "metadata": {
    "collapsed": false,
    "pycharm": {
     "name": "#%% md\n"
    }
   }
  },
  {
   "cell_type": "code",
   "execution_count": null,
   "metadata": {
    "pycharm": {
     "name": "#%%\n"
    }
   },
   "outputs": [],
   "source": [
    "fig, axs = plt.subplots(2, 1, layout='constrained')\n",
    "axs[0].plot(xdata, data1)\n",
    "axs[0].set_title('Automatic ticks')\n",
    "\n",
    "axs[1].plot(xdata, data1)\n",
    "axs[1].set_xticks(np.arange(0, 100, 30), ['zero', '30', 'sixty', '90'])\n",
    "axs[1].set_yticks([-1.5, 0, 1.5])  # note that we don't need to specify labels\n",
    "axs[1].set_title('Manual ticks');"
   ]
  },
  {
   "cell_type": "markdown",
   "metadata": {
    "pycharm": {
     "name": "#%% md\n"
    }
   },
   "source": [
    "Different scales can have different locators and formatters; for instance\n",
    "the log-scale above uses `~.LogLocator` and `~.LogFormatter`. See\n",
    ":doc:`/gallery/ticks/tick-locators` and\n",
    ":doc:`/gallery/ticks/tick-formatters` for other formatters and\n",
    "locators and information for writing your own.\n",
    "\n",
    "### Plotting dates and strings\n",
    "\n",
    "Matplotlib can handle plotting arrays of dates and arrays of strings, as\n",
    "well as floating point numbers.  These get special locators and formatters\n",
    "as appropriate.  For dates:\n",
    "\n"
   ]
  },
  {
   "cell_type": "code",
   "execution_count": null,
   "metadata": {
    "pycharm": {
     "name": "#%%\n"
    }
   },
   "outputs": [],
   "source": [
    "fig, ax = plt.subplots(figsize=(5, 2.7), layout='constrained')\n",
    "dates = np.arange(np.datetime64('2021-11-15'), np.datetime64('2021-12-25'),\n",
    "                  np.timedelta64(1, 'h'))\n",
    "data = np.cumsum(np.random.randn(len(dates)))\n",
    "ax.plot(dates, data)\n",
    "cdf = mpl.dates.ConciseDateFormatter(ax.xaxis.get_major_locator())\n",
    "ax.xaxis.set_major_formatter(cdf);"
   ]
  },
  {
   "cell_type": "markdown",
   "metadata": {
    "pycharm": {
     "name": "#%% md\n"
    }
   },
   "source": [
    "For more information see the date examples\n",
    "(e.g. :doc:`/gallery/text_labels_and_annotations/date`)\n",
    "\n",
    "For strings, we get categorical plotting (see:\n",
    ":doc:`/gallery/lines_bars_and_markers/categorical_variables`).\n",
    "\n"
   ]
  },
  {
   "cell_type": "code",
   "execution_count": null,
   "metadata": {
    "pycharm": {
     "name": "#%%\n"
    }
   },
   "outputs": [],
   "source": [
    "fig, ax = plt.subplots(figsize=(5, 2.7), layout='constrained')\n",
    "categories = ['turnips', 'rutabaga', 'cucumber', 'pumpkins']\n",
    "\n",
    "ax.bar(categories, np.random.rand(len(categories)));"
   ]
  },
  {
   "cell_type": "markdown",
   "metadata": {
    "pycharm": {
     "name": "#%% md\n"
    }
   },
   "source": [
    "One caveat about categorical plotting is that some methods of parsing\n",
    "text files return a list of strings, even if the strings all represent\n",
    "numbers or dates.  If you pass 1000 strings, Matplotlib will think you\n",
    "meant 1000 categories and will add 1000 ticks to your plot!\n",
    "\n",
    "\n",
    "### Additional Axis objects\n",
    "\n",
    "Plotting data of different magnitude in one chart may require\n",
    "an additional y-axis. Such an Axis can be created by using\n",
    "`~.Axes.twinx` to add a new Axes with an invisible x-axis and a y-axis\n",
    "positioned at the right (analogously for `~.Axes.twiny`). See\n",
    ":doc:`/gallery/subplots_axes_and_figures/two_scales` for another example.\n",
    "\n",
    "Similarly, you can add a `~.Axes.secondary_xaxis` or\n",
    "`~.Axes.secondary_yaxis` having a different scale than the main Axis to\n",
    "represent the data in different scales or units. See\n",
    ":doc:`/gallery/subplots_axes_and_figures/secondary_axis` for further\n",
    "examples.\n",
    "\n"
   ]
  },
  {
   "cell_type": "code",
   "execution_count": null,
   "metadata": {
    "pycharm": {
     "name": "#%%\n"
    }
   },
   "outputs": [],
   "source": [
    "fig, (ax1, ax3) = plt.subplots(1, 2, figsize=(7, 2.7), layout='constrained')\n",
    "l1, = ax1.plot(t, s)\n",
    "ax2 = ax1.twinx()\n",
    "l2, = ax2.plot(t, range(len(t)), 'C1')\n",
    "ax2.legend([l1, l2], ['Sine (left)', 'Straight (right)'])\n",
    "\n",
    "ax3.plot(t, s)\n",
    "ax3.set_xlabel('Angle [rad]')\n",
    "ax4 = ax3.secondary_xaxis('top', functions=(np.rad2deg, np.deg2rad))\n",
    "ax4.set_xlabel('Angle [°]')"
   ]
  },
  {
   "cell_type": "markdown",
   "metadata": {
    "pycharm": {
     "name": "#%% md\n"
    }
   },
   "source": [
    "## Color mapped data\n",
    "\n",
    "Often we want to have a third dimension in a plot represented by a colors in\n",
    "a colormap. Matplotlib has a number of plot types that do this:\n",
    "\n"
   ]
  },
  {
   "cell_type": "code",
   "execution_count": null,
   "metadata": {
    "pycharm": {
     "name": "#%%\n"
    }
   },
   "outputs": [],
   "source": [
    "X, Y = np.meshgrid(np.linspace(-3, 3, 128), np.linspace(-3, 3, 128))\n",
    "Z = (1 - X/2 + X**5 + Y**3) * np.exp(-X**2 - Y**2)\n",
    "\n",
    "fig, axs = plt.subplots(2, 2, layout='constrained')\n",
    "pc = axs[0, 0].pcolormesh(X, Y, Z, vmin=-1, vmax=1, cmap='RdBu_r')\n",
    "fig.colorbar(pc, ax=axs[0, 0])\n",
    "axs[0, 0].set_title('pcolormesh()')\n",
    "\n",
    "co = axs[0, 1].contourf(X, Y, Z, levels=np.linspace(-1.25, 1.25, 11))\n",
    "fig.colorbar(co, ax=axs[0, 1])\n",
    "axs[0, 1].set_title('contourf()')\n",
    "\n",
    "pc = axs[1, 0].imshow(Z**2 * 100, cmap='plasma',\n",
    "                          norm=mpl.colors.LogNorm(vmin=0.01, vmax=100))\n",
    "fig.colorbar(pc, ax=axs[1, 0], extend='both')\n",
    "axs[1, 0].set_title('imshow() with LogNorm()')\n",
    "\n",
    "pc = axs[1, 1].scatter(data1, data2, c=data3, cmap='RdBu_r')\n",
    "fig.colorbar(pc, ax=axs[1, 1], extend='both')\n",
    "axs[1, 1].set_title('scatter()')"
   ]
  },
  {
   "cell_type": "markdown",
   "metadata": {
    "pycharm": {
     "name": "#%% md\n"
    }
   },
   "source": [
    "### Colormaps\n",
    "\n",
    "These are all examples of Artists that derive from  `~.ScalarMappable`\n",
    "objects.  They all can set a linear mapping between *vmin* and *vmax* into\n",
    "the colormap specified by *cmap*.  Matplotlib has many colormaps to choose\n",
    "from (:doc:`/tutorials/colors/colormaps`) you can make your\n",
    "own (:doc:`/tutorials/colors/colormap-manipulation`) or download as\n",
    "[third-party packages](https://matplotlib.org/mpl-third-party/#colormaps-and-styles).\n",
    "\n",
    "### Normalizations\n",
    "\n",
    "Sometimes we want a non-linear mapping of the data to the colormap, as\n",
    "in the ``LogNorm`` example above.  We do this by supplying the\n",
    "ScalarMappable with the *norm* argument instead of *vmin* and *vmax*.\n",
    "More normalizations are shown at :doc:`/tutorials/colors/colormapnorms`.\n",
    "\n",
    "### Colorbars\n",
    "\n",
    "Adding a `~.Figure.colorbar` gives a key to relate the color back to the\n",
    "underlying data. Colorbars are figure-level Artists, and are attached to\n",
    "a ScalarMappable (where they get their information about the norm and\n",
    "colormap) and usually steal space from a parent Axes.  Placement of\n",
    "colorbars can be complex: see\n",
    ":doc:`/gallery/subplots_axes_and_figures/colorbar_placement` for\n",
    "details.  You can also change the appearance of colorbars with the\n",
    "*extend* keyword to add arrows to the ends, and *shrink* and *aspect* to\n",
    "control the size.  Finally, the colorbar will have default locators\n",
    "and formatters appropriate to the norm.  These can be changed as for\n",
    "other Axis objects.\n",
    "\n",
    "\n",
    "## Working with multiple Figures and Axes\n",
    "\n",
    "You can open multiple Figures with multiple calls to\n",
    "``fig = plt.figure()`` or ``fig2, ax = plt.subplots()``.  By keeping the\n",
    "object references you can add Artists to either Figure.\n",
    "\n",
    "Multiple Axes can be added a number of ways, but the most basic is\n",
    "``plt.subplots()`` as used above.  One can achieve more complex layouts,\n",
    "with Axes objects spanning columns or rows, using `~.pyplot.subplot_mosaic`.\n",
    "\n"
   ]
  },
  {
   "cell_type": "code",
   "execution_count": null,
   "metadata": {
    "pycharm": {
     "name": "#%%\n",
     "is_executing": true
    }
   },
   "outputs": [],
   "source": [
    "fig, axd = plt.subplot_mosaic([['upleft', 'right'],\n",
    "                               ['lowleft', 'right']], layout='constrained')\n",
    "axd['upleft'].set_title('upleft')\n",
    "axd['lowleft'].set_title('lowleft')\n",
    "axd['right'].set_title('right');"
   ]
  },
  {
   "cell_type": "markdown",
   "metadata": {
    "pycharm": {
     "name": "#%% md\n"
    }
   },
   "source": [
    "Matplotlib has quite sophisticated tools for arranging Axes: See\n",
    ":doc:`/tutorials/intermediate/arranging_axes` and\n",
    ":doc:`/tutorials/provisional/mosaic`.\n",
    "\n",
    "\n",
    "## More reading\n",
    "\n",
    "For more plot types see :doc:`Plot types </plot_types/index>` and the\n",
    ":doc:`API reference </api/index>`, in particlar the\n",
    ":doc:`Axes API </api/axes_api>`.\n",
    "\n"
   ]
  }
 ],
 "metadata": {
  "kernelspec": {
   "display_name": "Python 3 (ipykernel)",
   "language": "python",
   "name": "python3"
  },
  "language_info": {
   "codemirror_mode": {
    "name": "ipython",
    "version": 3
   },
   "file_extension": ".py",
   "mimetype": "text/x-python",
   "name": "python",
   "nbconvert_exporter": "python",
   "pygments_lexer": "ipython3",
   "version": "3.10.4"
  }
 },
 "nbformat": 4,
 "nbformat_minor": 1
}